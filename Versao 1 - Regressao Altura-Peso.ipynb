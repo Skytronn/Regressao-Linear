{
 "cells": [
  {
   "cell_type": "code",
   "execution_count": 22,
   "metadata": {},
   "outputs": [],
   "source": [
    "import numpy as np\n",
    "import pandas as pd\n",
    "import matplotlib.pyplot as plt\n",
    "%matplotlib inline"
   ]
  },
  {
   "cell_type": "code",
   "execution_count": 23,
   "metadata": {},
   "outputs": [],
   "source": [
    "#Carregando Data-set"
   ]
  },
  {
   "cell_type": "code",
   "execution_count": null,
   "metadata": {
    "scrolled": true
   },
   "outputs": [],
   "source": [
    "data = pd.read_excel('Altura-peso.xlsx')\n",
    "data.corr()"
   ]
  },
  {
   "cell_type": "code",
   "execution_count": null,
   "metadata": {},
   "outputs": [],
   "source": [
    "#Criação do Grafico "
   ]
  },
  {
   "cell_type": "code",
   "execution_count": null,
   "metadata": {},
   "outputs": [],
   "source": [
    "figure = plt.figure(figsize=(9,6))\n",
    "plt.scatter(data['Peso'], data['Altura'])\n",
    "plt.xlabel('Peso')\n",
    "plt.ylabel('Altura')"
   ]
  },
  {
   "cell_type": "code",
   "execution_count": null,
   "metadata": {},
   "outputs": [],
   "source": [
    "#Realizando uma tranformação logaritmica para melhor visualização dos dados"
   ]
  },
  {
   "cell_type": "code",
   "execution_count": null,
   "metadata": {},
   "outputs": [],
   "source": [
    "#realizar esse passo caso a tabela contenha muitas informações.\n",
    "\n",
    "figure = plt.figure(figsize=(9,6))\n",
    "plt.scatter(np.log(data['Peso']), np.log(data['Altura']))\n",
    "plt.xlabel('Peso')\n",
    "plt.ylabel('Altura')"
   ]
  },
  {
   "cell_type": "code",
   "execution_count": null,
   "metadata": {},
   "outputs": [],
   "source": [
    "#Preparado os dados: Colocando todas as entradas em uma mesma escala"
   ]
  },
  {
   "cell_type": "code",
   "execution_count": null,
   "metadata": {
    "scrolled": true
   },
   "outputs": [],
   "source": [
    "from sklearn.preprocessing import StandardScaler\n",
    "\n",
    "scaler = StandardScaler()\n",
    "data_scaled = scaler.fit_transform(data.drop('Pessoa', axis=1))\n",
    "\n",
    "col = ['Peso', 'Altura']\n",
    "\n",
    "new_data = pd.DataFrame(data_scaled, columns=col)\n",
    "new_data.head()"
   ]
  },
  {
   "cell_type": "code",
   "execution_count": null,
   "metadata": {},
   "outputs": [],
   "source": [
    "learning_rate = 0.1 \n",
    "interations = 1000 # número de interações\n",
    "theta = np.array([0,0])"
   ]
  },
  {
   "cell_type": "code",
   "execution_count": null,
   "metadata": {},
   "outputs": [],
   "source": [
    "feature = new_data['Peso'].values\n",
    "y = new_data['Altura'].values\n",
    "m = len(y)\n",
    "x0 = np.ones(m)\n",
    "X = np.c_[x0, feature]\n",
    "for interation in range(interations):\n",
    "    gradients = 2/m * X.T.dot(X.dot(theta) - y)\n",
    "    theta = theta - learning_rate * gradients"
   ]
  },
  {
   "cell_type": "code",
   "execution_count": null,
   "metadata": {},
   "outputs": [],
   "source": [
    "#Com o theta vamos conseguir no primeiro valor a interceptação e no segundo temos o coeficiente"
   ]
  },
  {
   "cell_type": "code",
   "execution_count": null,
   "metadata": {},
   "outputs": [],
   "source": [
    "print('Valor da interceptação:')\n",
    "print(theta[0])\n",
    "print('Valor do coeficiente:')\n",
    "print(theta[1])"
   ]
  },
  {
   "cell_type": "code",
   "execution_count": null,
   "metadata": {},
   "outputs": [],
   "source": [
    "#Calculo da Reta de Ajustamento: Montando a Tabela de valores"
   ]
  },
  {
   "cell_type": "code",
   "execution_count": null,
   "metadata": {},
   "outputs": [],
   "source": [
    "print(data['Peso'] + data['Altura'])\n",
    "print('Σx:'+ str(sum(data['Peso'])))\n",
    "print('Σy:'+ str(sum(data['Altura'])))\n",
    "XY = data['Peso'] * data['Altura']\n",
    "print('X * Y:\\n' + str(XY))\n",
    "print('X²:\\n' + str(data['Peso']*2))\n",
    "print('Y²:\\n' + str(data['Altura']*2))"
   ]
  },
  {
   "cell_type": "code",
   "execution_count": null,
   "metadata": {},
   "outputs": [],
   "source": [
    "#Calculo da Reta de Ajustamento: Coeficientes e valor Y"
   ]
  },
  {
   "cell_type": "code",
   "execution_count": null,
   "metadata": {},
   "outputs": [],
   "source": [
    "a = (10 * sum(XY)-(sum(data['Peso']) * sum(data['Altura'])))/(10 * 48860 - 473344)\n",
    "print(a)\n",
    "B = (sum(data['Altura'])/10) - (a * (sum(data['Peso'])/10))\n",
    "print(B)\n",
    "Y = (a * data['Peso']) + B\n",
    "print(Y)"
   ]
  },
  {
   "cell_type": "code",
   "execution_count": null,
   "metadata": {},
   "outputs": [],
   "source": [
    "figure = plt.figure(figsize=(9,6))\n",
    "plt.scatter(data['Peso'], data['Altura'])\n",
    "plt.xlabel('Peso')\n",
    "plt.ylabel('Altura')\n",
    "plt.plot(data['Peso'], Y)"
   ]
  }
 ],
 "metadata": {
  "kernelspec": {
   "display_name": "Python 3.8.2 32-bit",
   "language": "python",
   "name": "python38232bit6f33a09fe9b04bde9786992e959e3a96"
  },
  "language_info": {
   "codemirror_mode": {
    "name": "ipython",
    "version": 3
   },
   "file_extension": ".py",
   "mimetype": "text/x-python",
   "name": "python",
   "nbconvert_exporter": "python",
   "pygments_lexer": "ipython3",
   "version": "3.8.2-final"
  }
 },
 "nbformat": 4,
 "nbformat_minor": 4
}